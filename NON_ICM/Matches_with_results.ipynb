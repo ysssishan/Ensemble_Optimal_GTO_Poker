{
 "cells": [
  {
   "cell_type": "markdown",
   "metadata": {},
   "source": [
    " # Import"
   ]
  },
  {
   "cell_type": "code",
   "execution_count": 5,
   "metadata": {},
   "outputs": [],
   "source": [
    "# %%\n",
    "import sys\n",
    "import os\n",
    "parent_dir = os.path.abspath(os.path.join(os.getcwd(), '..', 'parent_folder'))\n",
    "sys.path.append(parent_dir)"
   ]
  },
  {
   "cell_type": "code",
   "execution_count": 11,
   "metadata": {},
   "outputs": [
    {
     "ename": "ModuleNotFoundError",
     "evalue": "No module named 'Game_Env'",
     "output_type": "error",
     "traceback": [
      "\u001b[0;31m---------------------------------------------------------------------------\u001b[0m",
      "\u001b[0;31mModuleNotFoundError\u001b[0m                       Traceback (most recent call last)",
      "Input \u001b[0;32mIn [11]\u001b[0m, in \u001b[0;36m<cell line: 1>\u001b[0;34m()\u001b[0m\n\u001b[0;32m----> 1\u001b[0m \u001b[38;5;28;01mimport\u001b[39;00m \u001b[38;5;21;01mGame_Env\u001b[39;00m\n",
      "\u001b[0;31mModuleNotFoundError\u001b[0m: No module named 'Game_Env'"
     ]
    }
   ],
   "source": [
    "import Game_Env"
   ]
  },
  {
   "cell_type": "code",
   "execution_count": 8,
   "metadata": {},
   "outputs": [
    {
     "ename": "ModuleNotFoundError",
     "evalue": "No module named 'Game_Env'",
     "output_type": "error",
     "traceback": [
      "\u001b[0;31m---------------------------------------------------------------------------\u001b[0m",
      "\u001b[0;31mModuleNotFoundError\u001b[0m                       Traceback (most recent call last)",
      "Input \u001b[0;32mIn [8]\u001b[0m, in \u001b[0;36m<cell line: 2>\u001b[0;34m()\u001b[0m\n\u001b[1;32m      1\u001b[0m \u001b[38;5;66;03m# %%\u001b[39;00m\n\u001b[0;32m----> 2\u001b[0m \u001b[38;5;28;01mfrom\u001b[39;00m \u001b[38;5;21;01mGame_Env\u001b[39;00m \u001b[38;5;28;01mimport\u001b[39;00m LeducholdemEnv\n\u001b[1;32m      3\u001b[0m \u001b[38;5;28;01mfrom\u001b[39;00m \u001b[38;5;21;01mRandom_Agent\u001b[39;00m \u001b[38;5;28;01mimport\u001b[39;00m RandomAgent\n\u001b[1;32m      4\u001b[0m \u001b[38;5;28;01mfrom\u001b[39;00m \u001b[38;5;21;01mAggressive_Agent\u001b[39;00m \u001b[38;5;28;01mimport\u001b[39;00m AggressiveAgent\n",
      "\u001b[0;31mModuleNotFoundError\u001b[0m: No module named 'Game_Env'"
     ]
    }
   ],
   "source": [
    "# %%\n",
    "from Game_Env import LeducholdemEnv\n",
    "from Random_Agent import RandomAgent\n",
    "from Aggressive_Agent import AggressiveAgent\n",
    "from NonICM_EA_MCCFR_Agent import NonICM_EA_MCCFR_Agent\n",
    "from NonICM_TA_MCCFR_Agent import NonICM_TA_MCCFR_Agent"
   ]
  },
  {
   "cell_type": "markdown",
   "metadata": {},
   "source": [
    " # Matches Functions\n",
    "\n",
    "Set up the environment for the competition with the provided configuration.\n",
    "\n",
    "Load agents with the provided model paths into the given environment.\n",
    "\n",
    "    Parameters:\n",
    "\n",
    "        - env: The environment where the agents will be loaded.\n",
    "\n",
    "        - model_paths: A dictionary containing the model paths for the agents.\n",
    "\n",
    "    Returns:\n",
    "\n",
    "        A dictionary of loaded agents.\n",
    "\n",
    "Set the agents for the environment.\n",
    "\n",
    "    Parameters:\n",
    "\n",
    "    - env: The environment where the agents will be set.\n",
    "\n",
    "    - agents: A list of agents to be set in the environment."
   ]
  },
  {
   "cell_type": "markdown",
   "metadata": {},
   "source": [
    " Matches run function\n",
    "\n",
    "\n",
    "\n",
    " Initialize wealth and win counters for each iteration\n",
    "\n",
    " Check if either player needs to be reset before starting a new hand\n",
    "\n",
    " 设置当前轮的盲注\n",
    "\n",
    " 运行游戏\n",
    "\n",
    " 计算赢局数\n",
    "\n",
    " 更新财富值\n",
    "\n",
    " Append cumulative wealth to lists\n",
    "\n",
    " Double the small blind\n",
    "\n",
    " small_blind = min(max(p1_wealth,p2_wealth)*0.02,small_blind*small_blind_multiplier)"
   ]
  },
  {
   "cell_type": "markdown",
   "metadata": {},
   "source": [
    " # Play game - EA vs TA\n",
    "\n",
    " Set up\n",
    "\n",
    "  Run matches"
   ]
  },
  {
   "cell_type": "code",
   "execution_count": null,
   "metadata": {},
   "outputs": [],
   "source": [
    "# %%\n",
    "# Line plot for wealth change\n",
    "\n",
    "plt.figure(figsize=(12, 6))\n",
    "\n",
    "for round_num in all_p1_wealth:\n",
    "    plt.plot(all_p1_wealth[round_num], color='#af8dc3', alpha=0.5)\n",
    "    plt.plot(all_p2_wealth[round_num], color='#1b7837', alpha=0.5)\n",
    "custom_lines = [\n",
    "    Line2D([0], [0], color='#af8dc3', lw=4, alpha=0.8),\n",
    "    Line2D([0], [0], color='#1b7837', lw=4, alpha=0.8)\n",
    "]\n",
    "plt.legend(custom_lines, ['Ensemble-average Strategy Player Wealth', 'Time-average Strategy Player Wealth'], \n",
    "           loc='upper center', bbox_to_anchor=(0.5, -0.15), ncol=2, borderaxespad=0.)\n",
    "\n",
    "plt.title(f'Wealth Over {len(all_p1_wealth)} Rounds Matches')\n",
    "plt.xlabel('Number of Hands in One Round')\n",
    "plt.ylabel('Wealth')\n",
    "plt.subplots_adjust(bottom=0.2)\n",
    "plt.grid(True)\n",
    "plt.show()\n",
    "\n",
    "\n",
    "# Line plot for win prob.\n",
    "# data preparation\n",
    "\n",
    "round_nums = list(all_p1_wins_prob.keys())\n",
    "p1_win_probs = [all_p1_wins_prob[round_num] for round_num in round_nums]\n",
    "p2_win_probs = [all_p2_wins_prob[round_num] for round_num in round_nums]\n",
    "# fig\n",
    "plt.figure(figsize=(12, 6))\n",
    "plt.plot(round_nums, p1_win_probs, label='Ensemble-average Strategy Win Probability', color='#af8dc3', marker='o',alpha=0.6)\n",
    "plt.plot(round_nums, p2_win_probs, label='Time-average Strategy Win Probability', color='#1b7837', marker='o',alpha=0.6)\n",
    "\n",
    "plt.title('Win Probability Over Rounds')\n",
    "plt.xlabel('Rounds')\n",
    "plt.ylabel('Win Probability')\n",
    "plt.legend(loc='upper center', bbox_to_anchor=(0.5, -0.2), ncol=2, borderaxespad=0.)\n",
    "plt.subplots_adjust(bottom=0.2)\n",
    "plt.grid(True)\n",
    "plt.show()\n",
    "\n"
   ]
  },
  {
   "cell_type": "code",
   "execution_count": null,
   "metadata": {},
   "outputs": [],
   "source": [
    "# %%\n",
    "print(sum(all_p1_wins.values()))\n",
    "\n",
    "\n"
   ]
  },
  {
   "cell_type": "markdown",
   "metadata": {},
   "source": [
    " # Play game - ea vs random\n",
    "\n",
    " Set up\n",
    "\n",
    "  Run matches"
   ]
  },
  {
   "cell_type": "code",
   "execution_count": null,
   "metadata": {},
   "outputs": [],
   "source": [
    "# %%\n",
    "# Line plot for wealth change\n",
    "plt.figure(figsize=(12, 6))\n",
    "\n",
    "for round_num in all_p1_wealth:\n",
    "    plt.plot(all_p1_wealth[round_num], color='#af8dc3', alpha=0.5)\n",
    "    plt.plot(all_p2_wealth[round_num], color='darkcyan', alpha=0.5)\n",
    "custom_lines = [\n",
    "    Line2D([0], [0], color='#af8dc3', lw=4, alpha=0.8),\n",
    "    Line2D([0], [0], color='darkcyan', lw=4, alpha=0.8)\n",
    "]\n",
    "plt.legend(custom_lines, ['Ensemble-average Strategy Player Wealth', 'Random Strategy Player Wealth'], \n",
    "           loc='upper center', bbox_to_anchor=(0.5, -0.15), ncol=2, borderaxespad=0.)\n",
    "\n",
    "plt.title(f'Wealth Over {len(all_p1_wealth)} Rounds Matches')\n",
    "plt.xlabel('Number of Hands in One Round')\n",
    "plt.ylabel('Wealth')\n",
    "plt.subplots_adjust(bottom=0.2)\n",
    "plt.grid(True)\n",
    "plt.show()\n",
    "\n",
    "\n",
    "# Line plot for win prob.\n",
    "# data preparation\n",
    "round_nums = list(all_p1_wins_prob.keys())\n",
    "p1_win_probs = [all_p1_wins_prob[round_num] for round_num in round_nums]\n",
    "p2_win_probs = [all_p2_wins_prob[round_num] for round_num in round_nums]\n",
    "\n",
    "# fig\n",
    "plt.figure(figsize=(12, 6))\n",
    "plt.plot(round_nums, p1_win_probs, label='Ensemble-average Strategy Win Probability', color='#af8dc3', marker='o',alpha=0.6)\n",
    "plt.plot(round_nums, p2_win_probs, label='Random Strategy Win Probability', color='darkcyan', marker='o',alpha=0.6)\n",
    "\n",
    "plt.title('Win Probability Over Rounds')\n",
    "plt.xlabel('Rounds')\n",
    "plt.ylabel('Win Probability')\n",
    "plt.legend(loc='upper center', bbox_to_anchor=(0.5, -0.2), ncol=2, borderaxespad=0.)\n",
    "plt.subplots_adjust(bottom=0.2)\n",
    "plt.grid(True)\n",
    "plt.show()\n"
   ]
  },
  {
   "cell_type": "code",
   "execution_count": null,
   "metadata": {},
   "outputs": [],
   "source": [
    "# %%\n",
    "print(sum(all_p1_wins.values()))\n"
   ]
  },
  {
   "cell_type": "markdown",
   "metadata": {},
   "source": [
    " # Play game - EA vs Aggressive\n",
    "\n",
    " Set up\n",
    "\n",
    "  Run matches"
   ]
  },
  {
   "cell_type": "code",
   "execution_count": null,
   "metadata": {},
   "outputs": [],
   "source": [
    "# %%\n",
    "# Line plot for wealth change\n",
    "\n",
    "plt.figure(figsize=(12, 6))\n",
    "\n",
    "for round_num in all_p1_wealth:\n",
    "    plt.plot(all_p1_wealth[round_num], color='#af8dc3', alpha=0.5)\n",
    "    plt.plot(all_p2_wealth[round_num], color='indianred', alpha=0.5)\n",
    "custom_lines = [\n",
    "    Line2D([0], [0], color='#af8dc3', lw=4, alpha=0.8),\n",
    "    Line2D([0], [0], color='indianred', lw=4, alpha=0.8)\n",
    "]\n",
    "plt.legend(custom_lines, ['Ensemble-average Strategy Player Wealth', 'Aggressive Strategy Player Wealth'], \n",
    "           loc='upper center', bbox_to_anchor=(0.5, -0.15), ncol=2, borderaxespad=0.)\n",
    "\n",
    "plt.title(f'Wealth Over {len(all_p1_wealth)} Rounds Matches')\n",
    "plt.xlabel('Number of Hands in One Round')\n",
    "plt.ylabel('Wealth')\n",
    "plt.subplots_adjust(bottom=0.2)\n",
    "plt.grid(True)\n",
    "plt.show()\n",
    "\n",
    "\n",
    "# Line plot for win prob.\n",
    "# data preparation\n",
    "\n",
    "round_nums = list(all_p1_wins_prob.keys())\n",
    "p1_win_probs = [all_p1_wins_prob[round_num] for round_num in round_nums]\n",
    "p2_win_probs = [all_p2_wins_prob[round_num] for round_num in round_nums]\n",
    "# fig\n",
    "plt.figure(figsize=(12, 6))\n",
    "plt.plot(round_nums, p1_win_probs, label='Ensemble-average Strategy Win Probability', color='#af8dc3', marker='o',alpha=0.6)\n",
    "plt.plot(round_nums, p2_win_probs, label='Aggressive Strategy Win Probability', color='indianred', marker='o',alpha=0.6)\n",
    "\n",
    "plt.title('Win Probability Over Rounds')\n",
    "plt.xlabel('Rounds')\n",
    "plt.ylabel('Win Probability')\n",
    "plt.legend(loc='upper center', bbox_to_anchor=(0.5, -0.2), ncol=2, borderaxespad=0.)\n",
    "plt.subplots_adjust(bottom=0.2)\n",
    "plt.grid(True)\n",
    "plt.show()\n",
    "\n",
    "\n",
    "\n",
    "\n"
   ]
  },
  {
   "cell_type": "markdown",
   "metadata": {},
   "source": [
    " # Play game - ta vs random\n",
    "\n",
    " Set up"
   ]
  },
  {
   "cell_type": "code",
   "execution_count": null,
   "metadata": {},
   "outputs": [],
   "source": [
    "# %%\n",
    "#  Run matches\n",
    "all_p1_wealth, all_p2_wealth, all_p1_wins, all_p2_wins, all_p1_wins_prob, all_p2_wins_prob, all_p1_payoffs, all_p2_payoffs, all_trajectories = matches_run(rounds=20,hands=100,env=env,initial_chips=1000,small_blind_multiplier=1)\n"
   ]
  },
  {
   "cell_type": "code",
   "execution_count": null,
   "metadata": {},
   "outputs": [],
   "source": [
    "# %%\n",
    "# Line plot for wealth change\n",
    "plt.figure(figsize=(12, 6))\n",
    "\n",
    "for round_num in all_p1_wealth:\n",
    "    plt.plot(all_p1_wealth[round_num], color='#1b7837', alpha=0.5)\n",
    "    plt.plot(all_p2_wealth[round_num], color='darkcyan', alpha=0.3)\n",
    "custom_lines = [\n",
    "    Line2D([0], [0], color='#1b7837', lw=4, alpha=0.8),\n",
    "    Line2D([0], [0], color='darkcyan', lw=4, alpha=0.8)\n",
    "]\n",
    "plt.legend(custom_lines, ['Time-average Strategy Player Wealth', 'Random Strategy Player Wealth'], \n",
    "           loc='upper center', bbox_to_anchor=(0.5, -0.15), ncol=2, borderaxespad=0.)\n",
    "\n",
    "plt.title(f'Wealth Over {len(all_p1_wealth)} Rounds Matches')\n",
    "plt.xlabel('Number of Hands in One Round')\n",
    "plt.ylabel('Wealth')\n",
    "plt.subplots_adjust(bottom=0.2)\n",
    "plt.grid(True)\n",
    "plt.show()\n",
    "\n",
    "\n",
    "# Line plot for win prob.\n",
    "# data preparation\n",
    "round_nums = list(all_p1_wins_prob.keys())\n",
    "p1_win_probs = [all_p1_wins_prob[round_num] for round_num in round_nums]\n",
    "p2_win_probs = [all_p2_wins_prob[round_num] for round_num in round_nums]\n",
    "\n",
    "# fig\n",
    "plt.figure(figsize=(12, 6))\n",
    "plt.plot(round_nums, p1_win_probs, label='Time-average Strategy Player Wealth', color='#1b7837', marker='o',alpha=0.6)\n",
    "plt.plot(round_nums, p2_win_probs, label='Random Strategy Player Wealth', color='darkcyan', marker='o',alpha=0.3)\n",
    "\n",
    "plt.title('Win Probability Over Rounds')\n",
    "plt.xlabel('Rounds')\n",
    "plt.ylabel('Win Probability')\n",
    "plt.legend(loc='upper center', bbox_to_anchor=(0.5, -0.2), ncol=2, borderaxespad=0.)\n",
    "plt.subplots_adjust(bottom=0.2)\n",
    "plt.grid(True)\n",
    "plt.show()"
   ]
  }
 ],
 "metadata": {
  "kernelspec": {
   "display_name": "base",
   "language": "python",
   "name": "python3"
  },
  "language_info": {
   "codemirror_mode": {
    "name": "ipython",
    "version": 3
   },
   "file_extension": ".py",
   "mimetype": "text/x-python",
   "name": "python",
   "nbconvert_exporter": "python",
   "pygments_lexer": "ipython3",
   "version": "3.9.12"
  }
 },
 "nbformat": 4,
 "nbformat_minor": 2
}
